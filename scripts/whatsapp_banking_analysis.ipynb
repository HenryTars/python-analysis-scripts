{
 "cells": [
  {
   "cell_type": "code",
   "execution_count": 5,
   "id": "5e6dc378-1bae-4baf-9c13-12ff1f4d334b",
   "metadata": {
    "ExecuteTime": {
     "end_time": "2025-05-15T13:29:26.262425Z",
     "start_time": "2025-05-15T13:29:26.253684Z"
    }
   },
   "outputs": [],
   "source": [
    "import pandas as pd\n",
    "import sqlite3\n",
    "\n",
    "conn = sqlite3.connect(\"cbs.db\")\n",
    "\n",
    "# csv_file = \"ACVWS_ALL_AC_ENTRIES_ACRJRNAL_2025.csv\"  # Update this path\n",
    "# chunk_size = 500000  # You can adjust this based on memory\n",
    "\n",
    "# for chunk in pd.read_csv(csv_file, chunksize=chunk_size):\n",
    "#     chunk.to_sql(\"ACVWS_ALL_AC_ENTRIES_ACRJRNAL_2025\", conn, if_exists=\"append\", index=False)"
   ]
  },
  {
   "cell_type": "code",
   "execution_count": 6,
   "id": "58eee525-620f-48fd-b25f-24d8e18ed5df",
   "metadata": {
    "ExecuteTime": {
     "end_time": "2025-05-15T13:29:38.607612Z",
     "start_time": "2025-05-15T13:29:38.593745Z"
    }
   },
   "outputs": [
    {
     "data": {
      "text/html": [
       "<div>\n",
       "<style scoped>\n",
       "    .dataframe tbody tr th:only-of-type {\n",
       "        vertical-align: middle;\n",
       "    }\n",
       "\n",
       "    .dataframe tbody tr th {\n",
       "        vertical-align: top;\n",
       "    }\n",
       "\n",
       "    .dataframe thead th {\n",
       "        text-align: right;\n",
       "    }\n",
       "</style>\n",
       "<table border=\"1\" class=\"dataframe\">\n",
       "  <thead>\n",
       "    <tr style=\"text-align: right;\">\n",
       "      <th></th>\n",
       "      <th>BRANCH_CODE</th>\n",
       "      <th>BRANCH_NAME</th>\n",
       "    </tr>\n",
       "  </thead>\n",
       "  <tbody>\n",
       "    <tr>\n",
       "      <th>0</th>\n",
       "      <td>16</td>\n",
       "      <td>TUNDUMA BRANCH</td>\n",
       "    </tr>\n",
       "    <tr>\n",
       "      <th>1</th>\n",
       "      <td>17</td>\n",
       "      <td>RWAGASORE AGENCY</td>\n",
       "    </tr>\n",
       "    <tr>\n",
       "      <th>2</th>\n",
       "      <td>19</td>\n",
       "      <td>MOROGORO BRANCH</td>\n",
       "    </tr>\n",
       "  </tbody>\n",
       "</table>\n",
       "</div>"
      ],
      "text/plain": [
       "   BRANCH_CODE       BRANCH_NAME\n",
       "0           16    TUNDUMA BRANCH\n",
       "1           17  RWAGASORE AGENCY\n",
       "2           19   MOROGORO BRANCH"
      ]
     },
     "execution_count": 6,
     "metadata": {},
     "output_type": "execute_result"
    }
   ],
   "source": [
    "# Preview the first 5 rows\n",
    "query = \"SELECT BRANCH_CODE, BRANCH_NAME FROM STTM_BRANCH\"\n",
    "df = pd.read_sql_query(query, conn)\n",
    "df.head(3)"
   ]
  },
  {
   "cell_type": "code",
   "execution_count": 7,
   "id": "0adebe9f-3306-474a-965f-47f772f534a4",
   "metadata": {
    "ExecuteTime": {
     "end_time": "2025-05-15T13:30:21.667388Z",
     "start_time": "2025-05-15T13:29:40.873149Z"
    }
   },
   "outputs": [
    {
     "data": {
      "text/html": [
       "<div>\n",
       "<style scoped>\n",
       "    .dataframe tbody tr th:only-of-type {\n",
       "        vertical-align: middle;\n",
       "    }\n",
       "\n",
       "    .dataframe tbody tr th {\n",
       "        vertical-align: top;\n",
       "    }\n",
       "\n",
       "    .dataframe thead th {\n",
       "        text-align: right;\n",
       "    }\n",
       "</style>\n",
       "<table border=\"1\" class=\"dataframe\">\n",
       "  <thead>\n",
       "    <tr style=\"text-align: right;\">\n",
       "      <th></th>\n",
       "      <th>AC_BRANCH</th>\n",
       "      <th>AC_CCY</th>\n",
       "      <th>AC_NO</th>\n",
       "      <th>FCY_AMOUNT</th>\n",
       "      <th>LCY_AMOUNT</th>\n",
       "      <th>AMOUNT_TAG</th>\n",
       "      <th>PRODUCT</th>\n",
       "      <th>RELATED_ACCOUNT</th>\n",
       "      <th>TRN_CODE</th>\n",
       "      <th>TRN_DT</th>\n",
       "      <th>TRN_REF_NO</th>\n",
       "      <th>VALUE_DT</th>\n",
       "    </tr>\n",
       "  </thead>\n",
       "  <tbody>\n",
       "    <tr>\n",
       "      <th>0</th>\n",
       "      <td>5</td>\n",
       "      <td>TZS</td>\n",
       "      <td>005000175399</td>\n",
       "      <td>0.0</td>\n",
       "      <td>832000.0</td>\n",
       "      <td>AMT_EQUIV</td>\n",
       "      <td>DWTB</td>\n",
       "      <td>None</td>\n",
       "      <td>W05</td>\n",
       "      <td>05/02/2025 00:00:00</td>\n",
       "      <td>005DWTB251220001</td>\n",
       "      <td>05/01/2025 00:00:00</td>\n",
       "    </tr>\n",
       "    <tr>\n",
       "      <th>1</th>\n",
       "      <td>1</td>\n",
       "      <td>TZS</td>\n",
       "      <td>001000373006</td>\n",
       "      <td>0.0</td>\n",
       "      <td>45000.0</td>\n",
       "      <td>AMT_EQUIV</td>\n",
       "      <td>DWTW</td>\n",
       "      <td>None</td>\n",
       "      <td>W06</td>\n",
       "      <td>05/02/2025 00:00:00</td>\n",
       "      <td>001DWTW251220501</td>\n",
       "      <td>05/01/2025 00:00:00</td>\n",
       "    </tr>\n",
       "    <tr>\n",
       "      <th>2</th>\n",
       "      <td>1</td>\n",
       "      <td>TZS</td>\n",
       "      <td>001000373006</td>\n",
       "      <td>0.0</td>\n",
       "      <td>50000.0</td>\n",
       "      <td>AMT_EQUIV</td>\n",
       "      <td>DWTW</td>\n",
       "      <td>None</td>\n",
       "      <td>W06</td>\n",
       "      <td>05/02/2025 00:00:00</td>\n",
       "      <td>001DWTW251220502</td>\n",
       "      <td>05/01/2025 00:00:00</td>\n",
       "    </tr>\n",
       "    <tr>\n",
       "      <th>3</th>\n",
       "      <td>32</td>\n",
       "      <td>TZS</td>\n",
       "      <td>032000035874</td>\n",
       "      <td>0.0</td>\n",
       "      <td>10000.0</td>\n",
       "      <td>AMT_EQUIV</td>\n",
       "      <td>DWTW</td>\n",
       "      <td>None</td>\n",
       "      <td>W06</td>\n",
       "      <td>05/02/2025 00:00:00</td>\n",
       "      <td>032DWTW251220002</td>\n",
       "      <td>05/01/2025 00:00:00</td>\n",
       "    </tr>\n",
       "    <tr>\n",
       "      <th>4</th>\n",
       "      <td>1</td>\n",
       "      <td>TZS</td>\n",
       "      <td>001000373006</td>\n",
       "      <td>0.0</td>\n",
       "      <td>100000.0</td>\n",
       "      <td>AMT_EQUIV</td>\n",
       "      <td>DWTB</td>\n",
       "      <td>None</td>\n",
       "      <td>W05</td>\n",
       "      <td>05/02/2025 00:00:00</td>\n",
       "      <td>001DWTB251220502</td>\n",
       "      <td>05/01/2025 00:00:00</td>\n",
       "    </tr>\n",
       "  </tbody>\n",
       "</table>\n",
       "</div>"
      ],
      "text/plain": [
       "  AC_BRANCH AC_CCY         AC_NO  FCY_AMOUNT  LCY_AMOUNT AMOUNT_TAG PRODUCT  \\\n",
       "0         5    TZS  005000175399         0.0    832000.0  AMT_EQUIV    DWTB   \n",
       "1         1    TZS  001000373006         0.0     45000.0  AMT_EQUIV    DWTW   \n",
       "2         1    TZS  001000373006         0.0     50000.0  AMT_EQUIV    DWTW   \n",
       "3        32    TZS  032000035874         0.0     10000.0  AMT_EQUIV    DWTW   \n",
       "4         1    TZS  001000373006         0.0    100000.0  AMT_EQUIV    DWTB   \n",
       "\n",
       "  RELATED_ACCOUNT TRN_CODE               TRN_DT        TRN_REF_NO  \\\n",
       "0            None      W05  05/02/2025 00:00:00  005DWTB251220001   \n",
       "1            None      W06  05/02/2025 00:00:00  001DWTW251220501   \n",
       "2            None      W06  05/02/2025 00:00:00  001DWTW251220502   \n",
       "3            None      W06  05/02/2025 00:00:00  032DWTW251220002   \n",
       "4            None      W05  05/02/2025 00:00:00  001DWTB251220502   \n",
       "\n",
       "              VALUE_DT  \n",
       "0  05/01/2025 00:00:00  \n",
       "1  05/01/2025 00:00:00  \n",
       "2  05/01/2025 00:00:00  \n",
       "3  05/01/2025 00:00:00  \n",
       "4  05/01/2025 00:00:00  "
      ]
     },
     "execution_count": 7,
     "metadata": {},
     "output_type": "execute_result"
    }
   ],
   "source": [
    "# SQL query to fetch the specified columns with PRODUCT starting with 'DW'\n",
    "query = \"\"\"\n",
    "SELECT \n",
    "    CAST(AC_BRANCH AS TEXT) AS AC_BRANCH,\n",
    "    AC_CCY,\n",
    "    AC_NO,\n",
    "    FCY_AMOUNT,\n",
    "    LCY_AMOUNT,\n",
    "    AMOUNT_TAG,\n",
    "    PRODUCT,\n",
    "    RELATED_ACCOUNT,\n",
    "    TRN_CODE,\n",
    "    TRN_DT,\n",
    "    TRN_REF_NO,\n",
    "    VALUE_DT\n",
    "FROM ACVWS_ALL_AC_ENTRIES_ACRJRNAL_2025\n",
    "WHERE \n",
    "    PRODUCT LIKE 'DW%' AND \n",
    "    CUST_GL = 'A' AND \n",
    "    AMOUNT_TAG = 'AMT_EQUIV' AND\n",
    "    AC_BRANCH != 999;\n",
    "\"\"\"\n",
    "\n",
    "# Execute query and load into DataFrame\n",
    "df = pd.read_sql_query(query, conn)\n",
    "\n",
    "df.head()"
   ]
  },
  {
   "cell_type": "code",
   "execution_count": 8,
   "id": "838ae7be-0dcf-4464-8d60-e4f6632861a1",
   "metadata": {
    "ExecuteTime": {
     "end_time": "2025-05-15T13:30:21.719732Z",
     "start_time": "2025-05-15T13:30:21.688972Z"
    }
   },
   "outputs": [
    {
     "name": "stdout",
     "output_type": "stream",
     "text": [
      "<class 'pandas.core.frame.DataFrame'>\n",
      "RangeIndex: 573 entries, 0 to 572\n",
      "Data columns (total 12 columns):\n",
      " #   Column           Non-Null Count  Dtype  \n",
      "---  ------           --------------  -----  \n",
      " 0   AC_BRANCH        573 non-null    object \n",
      " 1   AC_CCY           573 non-null    object \n",
      " 2   AC_NO            573 non-null    object \n",
      " 3   FCY_AMOUNT       573 non-null    float64\n",
      " 4   LCY_AMOUNT       573 non-null    float64\n",
      " 5   AMOUNT_TAG       573 non-null    object \n",
      " 6   PRODUCT          573 non-null    object \n",
      " 7   RELATED_ACCOUNT  0 non-null      object \n",
      " 8   TRN_CODE         573 non-null    object \n",
      " 9   TRN_DT           573 non-null    object \n",
      " 10  TRN_REF_NO       573 non-null    object \n",
      " 11  VALUE_DT         573 non-null    object \n",
      "dtypes: float64(2), object(10)\n",
      "memory usage: 53.8+ KB\n"
     ]
    }
   ],
   "source": [
    "df.info()"
   ]
  },
  {
   "cell_type": "code",
   "execution_count": 5,
   "id": "a80406d4-5f16-47f9-80e3-739d3404e8d3",
   "metadata": {},
   "outputs": [],
   "source": [
    "# # Ensure TRN_DT is datetime\n",
    "# df[\"TRN_DT\"] = pd.to_datetime(df[\"TRN_DT\"])\n",
    "\n",
    "# # Step 1: Group to get total LCY_AMOUNT per account per day\n",
    "# grouped = df.groupby([\"TRN_DT\", \"AC_NO\"]).agg({\n",
    "#     \"LCY_AMOUNT\": \"sum\",\n",
    "#     \"AC_BRANCH\": \"first\",\n",
    "#     \"PRODUCT\": \"first\",\n",
    "#     \"RELATED_CUSTOMER\": \"first\",\n",
    "#     \"VALUE_DT\": \"first\"\n",
    "# }).reset_index()\n",
    "\n",
    "# # Step 2: Get the account with the highest total per day\n",
    "# top_per_day = grouped.loc[grouped.groupby(\"TRN_DT\")[\"LCY_AMOUNT\"].idxmax()].reset_index(drop=True)\n",
    "\n",
    "# # Step 3: Sort and keep required columns\n",
    "# top_per_day = top_per_day.sort_values(\"TRN_DT\")[[\n",
    "#     \"AC_BRANCH\", \"AC_NO\", \"LCY_AMOUNT\", \"PRODUCT\", \"RELATED_CUSTOMER\", \"TRN_DT\", \"VALUE_DT\"\n",
    "# ]]\n",
    "\n",
    "# # Format AC_BRANCH to 3-digit strings (e.g., '001')\n",
    "# top_per_day['AC_BRANCH'] = top_per_day['AC_BRANCH'].apply(\n",
    "#     lambda x: str(int(x)).zfill(3) if pd.notnull(x) else ''\n",
    "# )\n",
    "\n",
    "# # Format RELATED_CUSTOMER to 9-digit strings (e.g., '000123456')\n",
    "# top_per_day['RELATED_CUSTOMER'] = top_per_day['RELATED_CUSTOMER'].apply(\n",
    "#     lambda x: str(int(x)).zfill(9) if pd.notnull(x) else ''\n",
    "# )\n",
    "\n",
    "# # Step 4: Export to CSV\n",
    "# top_per_day.to_csv(\"top_account_per_day.csv\", index=False)\n",
    "\n",
    "# # Show preview\n",
    "# top_per_day.head(500)"
   ]
  },
  {
   "cell_type": "code",
   "execution_count": 9,
   "id": "39800797-6bf9-4f2b-8fd4-c53ab38c4cfe",
   "metadata": {
    "ExecuteTime": {
     "end_time": "2025-05-15T13:30:21.744469Z",
     "start_time": "2025-05-15T13:30:21.736947Z"
    }
   },
   "outputs": [
    {
     "data": {
      "text/plain": [
       "(573, 12)"
      ]
     },
     "execution_count": 9,
     "metadata": {},
     "output_type": "execute_result"
    }
   ],
   "source": [
    "df.shape"
   ]
  },
  {
   "cell_type": "code",
   "execution_count": 10,
   "id": "99cf7573-6502-4ef2-bf1c-12764a96f130",
   "metadata": {
    "ExecuteTime": {
     "end_time": "2025-05-15T13:33:26.605391Z",
     "start_time": "2025-05-15T13:33:26.590290Z"
    }
   },
   "outputs": [
    {
     "data": {
      "text/html": [
       "<div>\n",
       "<style scoped>\n",
       "    .dataframe tbody tr th:only-of-type {\n",
       "        vertical-align: middle;\n",
       "    }\n",
       "\n",
       "    .dataframe tbody tr th {\n",
       "        vertical-align: top;\n",
       "    }\n",
       "\n",
       "    .dataframe thead th {\n",
       "        text-align: right;\n",
       "    }\n",
       "</style>\n",
       "<table border=\"1\" class=\"dataframe\">\n",
       "  <thead>\n",
       "    <tr style=\"text-align: right;\">\n",
       "      <th></th>\n",
       "      <th>AC_BRANCH</th>\n",
       "      <th>AC_CCY</th>\n",
       "      <th>AC_NO</th>\n",
       "      <th>FCY_AMOUNT</th>\n",
       "      <th>LCY_AMOUNT</th>\n",
       "      <th>AMOUNT_TAG</th>\n",
       "      <th>PRODUCT</th>\n",
       "      <th>RELATED_ACCOUNT</th>\n",
       "      <th>TRN_CODE</th>\n",
       "      <th>TRN_DT</th>\n",
       "      <th>TRN_REF_NO</th>\n",
       "      <th>VALUE_DT</th>\n",
       "    </tr>\n",
       "  </thead>\n",
       "  <tbody>\n",
       "    <tr>\n",
       "      <th>0</th>\n",
       "      <td>5</td>\n",
       "      <td>TZS</td>\n",
       "      <td>005000175399</td>\n",
       "      <td>0.0</td>\n",
       "      <td>832000.0</td>\n",
       "      <td>AMT_EQUIV</td>\n",
       "      <td>DWTB</td>\n",
       "      <td>None</td>\n",
       "      <td>W05</td>\n",
       "      <td>05/02/2025 00:00:00</td>\n",
       "      <td>005DWTB251220001</td>\n",
       "      <td>05/01/2025 00:00:00</td>\n",
       "    </tr>\n",
       "    <tr>\n",
       "      <th>1</th>\n",
       "      <td>1</td>\n",
       "      <td>TZS</td>\n",
       "      <td>001000373006</td>\n",
       "      <td>0.0</td>\n",
       "      <td>45000.0</td>\n",
       "      <td>AMT_EQUIV</td>\n",
       "      <td>DWTW</td>\n",
       "      <td>None</td>\n",
       "      <td>W06</td>\n",
       "      <td>05/02/2025 00:00:00</td>\n",
       "      <td>001DWTW251220501</td>\n",
       "      <td>05/01/2025 00:00:00</td>\n",
       "    </tr>\n",
       "    <tr>\n",
       "      <th>2</th>\n",
       "      <td>1</td>\n",
       "      <td>TZS</td>\n",
       "      <td>001000373006</td>\n",
       "      <td>0.0</td>\n",
       "      <td>50000.0</td>\n",
       "      <td>AMT_EQUIV</td>\n",
       "      <td>DWTW</td>\n",
       "      <td>None</td>\n",
       "      <td>W06</td>\n",
       "      <td>05/02/2025 00:00:00</td>\n",
       "      <td>001DWTW251220502</td>\n",
       "      <td>05/01/2025 00:00:00</td>\n",
       "    </tr>\n",
       "    <tr>\n",
       "      <th>3</th>\n",
       "      <td>32</td>\n",
       "      <td>TZS</td>\n",
       "      <td>032000035874</td>\n",
       "      <td>0.0</td>\n",
       "      <td>10000.0</td>\n",
       "      <td>AMT_EQUIV</td>\n",
       "      <td>DWTW</td>\n",
       "      <td>None</td>\n",
       "      <td>W06</td>\n",
       "      <td>05/02/2025 00:00:00</td>\n",
       "      <td>032DWTW251220002</td>\n",
       "      <td>05/01/2025 00:00:00</td>\n",
       "    </tr>\n",
       "    <tr>\n",
       "      <th>4</th>\n",
       "      <td>1</td>\n",
       "      <td>TZS</td>\n",
       "      <td>001000373006</td>\n",
       "      <td>0.0</td>\n",
       "      <td>100000.0</td>\n",
       "      <td>AMT_EQUIV</td>\n",
       "      <td>DWTB</td>\n",
       "      <td>None</td>\n",
       "      <td>W05</td>\n",
       "      <td>05/02/2025 00:00:00</td>\n",
       "      <td>001DWTB251220502</td>\n",
       "      <td>05/01/2025 00:00:00</td>\n",
       "    </tr>\n",
       "  </tbody>\n",
       "</table>\n",
       "</div>"
      ],
      "text/plain": [
       "  AC_BRANCH AC_CCY         AC_NO  FCY_AMOUNT  LCY_AMOUNT AMOUNT_TAG PRODUCT  \\\n",
       "0         5    TZS  005000175399         0.0    832000.0  AMT_EQUIV    DWTB   \n",
       "1         1    TZS  001000373006         0.0     45000.0  AMT_EQUIV    DWTW   \n",
       "2         1    TZS  001000373006         0.0     50000.0  AMT_EQUIV    DWTW   \n",
       "3        32    TZS  032000035874         0.0     10000.0  AMT_EQUIV    DWTW   \n",
       "4         1    TZS  001000373006         0.0    100000.0  AMT_EQUIV    DWTB   \n",
       "\n",
       "  RELATED_ACCOUNT TRN_CODE               TRN_DT        TRN_REF_NO  \\\n",
       "0            None      W05  05/02/2025 00:00:00  005DWTB251220001   \n",
       "1            None      W06  05/02/2025 00:00:00  001DWTW251220501   \n",
       "2            None      W06  05/02/2025 00:00:00  001DWTW251220502   \n",
       "3            None      W06  05/02/2025 00:00:00  032DWTW251220002   \n",
       "4            None      W05  05/02/2025 00:00:00  001DWTB251220502   \n",
       "\n",
       "              VALUE_DT  \n",
       "0  05/01/2025 00:00:00  \n",
       "1  05/01/2025 00:00:00  \n",
       "2  05/01/2025 00:00:00  \n",
       "3  05/01/2025 00:00:00  \n",
       "4  05/01/2025 00:00:00  "
      ]
     },
     "execution_count": 10,
     "metadata": {},
     "output_type": "execute_result"
    }
   ],
   "source": [
    "df.head()"
   ]
  },
  {
   "cell_type": "code",
   "execution_count": null,
   "id": "0252a6d5",
   "metadata": {},
   "outputs": [],
   "source": []
  }
 ],
 "metadata": {
  "kernelspec": {
   "display_name": "Python 3 (ipykernel)",
   "language": "python",
   "name": "python3"
  },
  "language_info": {
   "codemirror_mode": {
    "name": "ipython",
    "version": 3
   },
   "file_extension": ".py",
   "mimetype": "text/x-python",
   "name": "python",
   "nbconvert_exporter": "python",
   "pygments_lexer": "ipython3",
   "version": "3.12.3"
  },
  "varInspector": {
   "cols": {
    "lenName": 16,
    "lenType": 16,
    "lenVar": 40
   },
   "kernels_config": {
    "python": {
     "delete_cmd_postfix": "",
     "delete_cmd_prefix": "del ",
     "library": "var_list.py",
     "varRefreshCmd": "print(var_dic_list())"
    },
    "r": {
     "delete_cmd_postfix": ") ",
     "delete_cmd_prefix": "rm(",
     "library": "var_list.r",
     "varRefreshCmd": "cat(var_dic_list()) "
    }
   },
   "position": {
    "height": "153.188px",
    "left": "369px",
    "right": "20px",
    "top": "34px",
    "width": "539px"
   },
   "types_to_exclude": [
    "module",
    "function",
    "builtin_function_or_method",
    "instance",
    "_Feature"
   ],
   "window_display": false
  }
 },
 "nbformat": 4,
 "nbformat_minor": 5
}
